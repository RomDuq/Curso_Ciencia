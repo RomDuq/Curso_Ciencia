{
 "cells": [
  {
   "cell_type": "markdown",
   "id": "f15ac8cb-06a6-4e88-b979-c9e2ae075c46",
   "metadata": {},
   "source": [
    "# Data Science Tools and Ecosystem"
   ]
  },
  {
   "cell_type": "markdown",
   "id": "58d3e41a-99b9-4916-adfe-0dc1a9b40a5c",
   "metadata": {},
   "source": [
    "## In this notebook, Data Science Tools and Ecosystem are summarized."
   ]
  },
  {
   "cell_type": "markdown",
   "id": "54f3f08b-26da-4917-b9e9-19479e2a5a65",
   "metadata": {},
   "source": [
    "Some of the popular languages that Data Scientists use are:\n",
    "1. Python\n",
    "2. R\n",
    "3. SQL"
   ]
  },
  {
   "cell_type": "markdown",
   "id": "bc53e3c0-2ee6-4c1c-8145-8db2db647ef8",
   "metadata": {},
   "source": [
    "Some of the commonly used libraries used by Data Scientists include:\n",
    "1. pandas\n",
    "2. NumPy\n",
    "3. Matplotlib"
   ]
  },
  {
   "cell_type": "markdown",
   "id": "d7a1c586-5849-47d8-8d7a-c88bec9b79bf",
   "metadata": {},
   "source": [
    "| Data Science Tools |\n",
    "|--------------------|\n",
    "| Jupyter Notebook   |\n",
    "| RStudio            |\n",
    "| VS Code            |"
   ]
  },
  {
   "cell_type": "markdown",
   "id": "e971ce2c-5cf1-45a0-bab9-1bb5e7e34c4a",
   "metadata": {},
   "source": [
    "Examples of arithmetic expressions:\n",
    "\n",
    "- `5 + 3` adds two numbers\n",
    "- `10 - 2` subtracts one number from another\n",
    "- `4 * 7` multiplies two numbers\n",
    "- `16 / 2` divides one number by another"
   ]
  },
  {
   "cell_type": "code",
   "execution_count": 1,
   "id": "fa0cad38-266d-447e-84fd-817df9de39b0",
   "metadata": {},
   "outputs": [
    {
     "data": {
      "text/plain": [
       "17"
      ]
     },
     "execution_count": 1,
     "metadata": {},
     "output_type": "execute_result"
    }
   ],
   "source": [
    "# This will multiply and then add two numbers\n",
    "(3 * 4) + 5"
   ]
  },
  {
   "cell_type": "code",
   "execution_count": 2,
   "id": "5c55f410-dea4-4ab5-9fc8-e62e4902aa71",
   "metadata": {},
   "outputs": [
    {
     "data": {
      "text/plain": [
       "3.3333333333333335"
      ]
     },
     "execution_count": 2,
     "metadata": {},
     "output_type": "execute_result"
    }
   ],
   "source": [
    "# Convert 200 minutes to hours\n",
    "minutes = 200\n",
    "hours = minutes / 60\n",
    "hours"
   ]
  },
  {
   "cell_type": "code",
   "execution_count": 3,
   "id": "f1dd0284-c2e8-4dc9-9e4e-958db0954395",
   "metadata": {},
   "outputs": [
    {
     "name": "stdout",
     "output_type": "stream",
     "text": [
      "- List popular languages for Data Science\n",
      "- List commonly used libraries in Data Science\n",
      "- Demonstrate arithmetic operations\n",
      "- Convert units using Python\n"
     ]
    }
   ],
   "source": [
    "# Objectives of this notebook:\n",
    "objectives = [\n",
    "    \"List popular languages for Data Science\",\n",
    "    \"List commonly used libraries in Data Science\",\n",
    "    \"Demonstrate arithmetic operations\",\n",
    "    \"Convert units using Python\"\n",
    "]\n",
    "for objective in objectives:\n",
    "    print(\"- \" + objective)"
   ]
  },
  {
   "cell_type": "markdown",
   "id": "852be610-f5e8-4d8c-91c9-7963e628a9b3",
   "metadata": {},
   "source": [
    "**Autor**: Romina Duque B."
   ]
  },
  {
   "cell_type": "code",
   "execution_count": null,
   "id": "eb69e701-4e53-4eac-b202-97335662ef85",
   "metadata": {},
   "outputs": [],
   "source": []
  }
 ],
 "metadata": {
  "kernelspec": {
   "display_name": "Python 3 (ipykernel)",
   "language": "python",
   "name": "python3"
  },
  "language_info": {
   "codemirror_mode": {
    "name": "ipython",
    "version": 3
   },
   "file_extension": ".py",
   "mimetype": "text/x-python",
   "name": "python",
   "nbconvert_exporter": "python",
   "pygments_lexer": "ipython3",
   "version": "3.12.8"
  }
 },
 "nbformat": 4,
 "nbformat_minor": 5
}
